{
 "cells": [
  {
   "cell_type": "code",
   "execution_count": 25,
   "metadata": {
    "collapsed": false
   },
   "outputs": [
    {
     "name": "stdout",
     "output_type": "stream",
     "text": [
      "13条评价 96 HKD Private room close to Hong Kong -Futian Checkpoint 独立房间 1张床 2位房客\n",
      "4条评价 104 HKD Soft Landing at Shenzhen 独立房间 1张床 2位房客\n",
      "12条评价 104 HKD 5号线上水径附近(万科麓城内)的温馨房间 独立房间 1张床 2位房客\n",
      "10条评价 345 HKD 蓝蓝公寓(深圳福田CBD 地铁口 新洲家乐福旁 整套房子/公寓 1张床 2位房客\n",
      "10条评价 313 HKD 【建筑师之家Architect Home】绘造社——景田地铁旁 整套房子/公寓 1张床 3位房客\n",
      "4条评价 425 HKD 五星级酒店公寓，地铁口文艺复古中式景观双人套房 整套房子/公寓 1张床 2位房客\n",
      "18条评价 160 HKD 地鐵房_簡約北歐單間OCT華僑城 独立房间 1张床 2位房客\n",
      "10条评价 313 HKD 深圳北站北欧风小屋 Cozy Suite in North Railway Station 整套房子/公寓 2张床 4位房客\n",
      "2条评价 337 HKD 科学馆D出口舒适公寓，采光好，环境优！ 整套房子/公寓 1张床 2位房客\n",
      "2条评价 225 HKD 近深圳北站……地铁口万科物业，文子de小藏屋-咖啡师的一楼安静花园房,香道 咖啡 茶艺 独立房间 1张床 2位房客\n",
      "14条评价 353 HKD 温馨舒适整套房间,近高新园世界之窗深大华侨城深圳湾口岸深圳湾体育中心29 整套房子/公寓 1张床 2位房客\n",
      "8条评价 80 HKD 非舍公寓女生六人床位間 合住房间 1张床 1位房客\n",
      "31条评价 209 HKD 深圳京基一百附近独立房间 点我头像可看另外房源选择你要的日期 粉红被子是同一房源的另一房间 一米八床 独立房间 1张床 1位房客\n",
      "22条评价 176 HKD Cozy home 5m from Futian Checkpoint 離福田口岸站5分鐘舒適的家 独立房间 2张床 2位房客\n",
      "6条评价 505 HKD 福田口岸地铁口步行2分钟，皇岗口岸，会展中心2站，温馨两房一厅 整套房子/公寓 2张床 4位房客\n",
      "9条评价 289 HKD 【素雅年华】宝安中心区海景大房 独立房间 2张床 4位房客\n",
      "6条评价 160 HKD 罗湖口岸/万象城/三地铁/大剧院站/交易便利美食遍地到让你尖叫/安静观景阳光单房 独立房间 1张床 1位房客\n",
      "7条评价 233 HKD 双地铁福田中心区，模范街区的共享房源 合住房间 1张床 2位房客\n"
     ]
    }
   ],
   "source": [
    "from selenium import webdriver\n",
    "from selenium.webdriver.firefox.firefox_binary import FirefoxBinary\n",
    "import time\n",
    "\n",
    "caps = webdriver.DesiredCapabilities().FIREFOX\n",
    "caps[\"marionette\"] = False\n",
    "binary = FirefoxBinary(r'D:\\Program Files\\Mozilla Firefox\\firefox.exe')\n",
    "#把上述地址改成你电脑中Firefox程序的地址\n",
    "driver = webdriver.Firefox(firefox_binary=binary, capabilities=caps)\n",
    "driver.get(\"https://zh.airbnb.com/s/Shenzhen--China?page=1\")\n",
    "\n",
    "rent_list = driver.find_elements_by_css_selector('div.infoContainer_v72lrv')\n",
    "for eachhouse in rent_list:\n",
    "    comment = eachhouse.find_element_by_css_selector('span.text_5mbkop-o_O-size_micro_16wifzf-o_O-inline_g86r3e')\n",
    "    comment = comment.text\n",
    "    price = eachhouse.find_element_by_css_selector('div.priceContainer_4ml1ll')\n",
    "    price = price.text[4:]\n",
    "    name = eachhouse.find_element_by_css_selector('div.listingNameContainer_kq7ac0-o_O-ellipsized_1iurgbx')\n",
    "    name = name.text\n",
    "    details = eachhouse.find_elements_by_css_selector('span.detailWithoutWrap_j1kt73')\n",
    "    detail_list = [i.text for i in details]\n",
    "    house_type = detail_list[0]\n",
    "    no_bed = detail_list[1]\n",
    "    no_visitor = detail_list[2]\n",
    "    print (comment, price, name, house_type, no_bed, no_visitor)"
   ]
  },
  {
   "cell_type": "code",
   "execution_count": 27,
   "metadata": {
    "collapsed": false
   },
   "outputs": [
    {
     "name": "stdout",
     "output_type": "stream",
     "text": [
      "10条评价 345 HKD 蓝蓝公寓(深圳福田CBD 地铁口 新洲家乐福旁 整套房子/公寓 1张床 2位房客\n",
      "13条评价 96 HKD Private room close to Hong Kong -Futian Checkpoint 独立房间 1张床 2位房客\n",
      "31条评价 209 HKD 深圳京基一百附近独立房间 点我头像可看另外房源选择你要的日期 粉红被子是同一房源的另一房间 一米八床 独立房间 1张床 1位房客\n",
      "8条评价 80 HKD 非舍公寓女生六人床位間 合住房间 1张床 1位房客\n",
      "8条评价 385 HKD ＃寒舍Room 2＃福田CBD下沙地铁口极简风无敌景观房，交通便利 合住房间 1张床 2位房客\n",
      "47条评价 385 HKD 【宫遇】32A-KKmall楼上一房一厅--【无敌景观】 整套房子/公寓 1张床 3位房客\n",
      "30条评价 176 HKD Private Bedroom Near SZ City Center & HK Border 独立房间 1张床 2位房客\n",
      "4条评价 858 HKD 喜来登酒店公寓豪华两房一厅(140平米,可聚会) 整套房子/公寓 2张床 4位房客\n",
      "10条评价 457 HKD Good Home-Lesley 整套房子/公寓 1张床 2位房客\n",
      "38条评价 313 HKD 【工业风 LOFT 榻榻米次卧】 南山中心区，近蛇口港、服装城、深圳湾口岸/体育馆、科技园 独立房间 1张床 2位房客\n",
      "12条评价 209 HKD 【建筑师之家Architect Home】空间戏法A——福民地铁口、福田市中心、福田口岸、皇岗口岸 独立房间 1张床 2位房客\n",
      "14条评价 353 HKD 温馨舒适整套房间,近高新园世界之窗深大华侨城深圳湾口岸深圳湾体育中心29 整套房子/公寓 1张床 2位房客\n",
      "18条评价 233 HKD 双地铁口美食街上的温馨小窝 整套房子/公寓 1张床 2位房客\n",
      "10条评价 313 HKD 深圳北站北欧风小屋 Cozy Suite in North Railway Station 整套房子/公寓 2张床 4位房客\n",
      "22条评价 176 HKD Cozy home 5m from Futian Checkpoint 離福田口岸站5分鐘舒適的家 独立房间 2张床 2位房客\n",
      "19条评价 473 HKD In Memory of James Dean(Studio) 整套房子/公寓 1张床 2位房客\n",
      "97条评价 225 HKD SmileHouse超讚房東_大双人房115米平方~香港口岸5分鐘、石厦站2分鐘,如朋友热情招待 独立房间 1张床 2位房客\n",
      "7条评价 273 HKD 温馨宽敞的大开间,距高新园地铁站500米 整套房子/公寓 1张床 3位房客\n",
      "77条评价 88 HKD young artist 100 的客厅好沙发 合住房间 2张床 2位房客\n",
      "9条评价 289 HKD 【素雅年华】宝安中心区海景大房 独立房间 2张床 4位房客\n",
      "7条评价 233 HKD 双地铁福田中心区，模范街区的共享房源 合住房间 1张床 2位房客\n",
      "4条评价 104 HKD Soft Landing at Shenzhen 独立房间 1张床 2位房客\n",
      "45条评价 361 HKD 【宛居】海上世界 深圳湾 Cozy Place 整套房子/公寓 1张床 2位房客\n",
      "6条评价 160 HKD 罗湖口岸/万象城/三地铁/大剧院站/阳光大床双人房/交通便利美食遍地到让你尖叫 独立房间 1张床 2位房客\n",
      "40条评价 369 HKD shenzhen罗湖东门地王京基大剧院新装精品单身公寓(罗湖金融中心) 整套房子/公寓 1张床 2位房客\n",
      "8条评价 136 HKD 华强路科学馆大剧院附近的精品公寓。4 独立房间 1张床 2位房客\n",
      "45条评价 185 HKD 南山，7号线龙井地铁，温馨干净舒适//tidy n cozy 独立房间 1张床 1位房客\n",
      "5条评价 185 HKD OCT地鐵口小清新雙人房 独立房间 1张床 2位房客\n",
      "25条评价 168 HKD A Shenzhen Bay comfort room with two beds 独立房间 2张床 2位房客\n",
      "28条评价 160 HKD 【地铁口】隐匿于都市中园林式小区,设计师的家，复古房间 独立房间 1张床 2位房客\n",
      "3条评价 337 HKD Comfort apartment in city center 整套房子/公寓 1张床 2位房客\n",
      "8条评价 706 HKD 怡兰之家6号公馆（近地铁、世界之窗、科技园、锦绣中华、欢乐谷 温馨两居室） 整套房子/公寓 2张床 3位房客\n",
      "4条评价 425 HKD 五星级酒店公寓，地铁口文艺复古中式景观双人套房 整套房子/公寓 1张床 2位房客\n",
      "7条评价 329 HKD 设计师之家——近皇岗、福田、罗湖口岸和会展中心的带顶层露台的三层复式公寓中的阁楼屋塔房 独立房间 1张床 2位房客\n",
      "18条评价 152 HKD 近宝安中心/前海自贸/深大/世界之窗/深圳西站,地铁口,共用卫生间 独立房间 1张床 1位房客\n",
      "16条评价 738 HKD 福田中心 梅景地铁站 三房 虹湾私人小会管 整套房子/公寓 3张床 5位房客\n",
      "2条评价 225 HKD 近深圳北站……地铁口万科物业，文子de小藏屋-咖啡师的一楼安静花园房,香道 咖啡 茶艺 独立房间 1张床 2位房客\n"
     ]
    },
    {
     "ename": "NoSuchElementException",
     "evalue": "Message: Unable to locate element: {\"method\":\"css selector\",\"selector\":\"span.text_5mbkop-o_O-size_micro_16wifzf-o_O-inline_g86r3e\"}\nStacktrace:\n    at FirefoxDriver.prototype.findElementInternal_ (file:///C:/Users/ADMINI~1/AppData/Local/Temp/tmpd1hjwk7g/extensions/fxdriver@googlecode.com/components/driver-component.js:10991)\n    at FirefoxDriver.prototype.findChildElement (file:///C:/Users/ADMINI~1/AppData/Local/Temp/tmpd1hjwk7g/extensions/fxdriver@googlecode.com/components/driver-component.js:11003)\n    at DelayedCommand.prototype.executeInternal_/k (file:///C:/Users/ADMINI~1/AppData/Local/Temp/tmpd1hjwk7g/extensions/fxdriver@googlecode.com/components/command-processor.js:12877)\n    at DelayedCommand.prototype.executeInternal_ (file:///C:/Users/ADMINI~1/AppData/Local/Temp/tmpd1hjwk7g/extensions/fxdriver@googlecode.com/components/command-processor.js:12882)\n    at DelayedCommand.prototype.execute/< (file:///C:/Users/ADMINI~1/AppData/Local/Temp/tmpd1hjwk7g/extensions/fxdriver@googlecode.com/components/command-processor.js:12824)",
     "output_type": "error",
     "traceback": [
      "\u001b[0;31m---------------------------------------------------------------------------\u001b[0m",
      "\u001b[0;31mNoSuchElementException\u001b[0m                    Traceback (most recent call last)",
      "\u001b[0;32m<ipython-input-27-e54c41ae68be>\u001b[0m in \u001b[0;36m<module>\u001b[0;34m()\u001b[0m\n\u001b[1;32m     14\u001b[0m     \u001b[0mrent_list\u001b[0m \u001b[1;33m=\u001b[0m \u001b[0mdriver\u001b[0m\u001b[1;33m.\u001b[0m\u001b[0mfind_elements_by_css_selector\u001b[0m\u001b[1;33m(\u001b[0m\u001b[1;34m'div.infoContainer_v72lrv'\u001b[0m\u001b[1;33m)\u001b[0m\u001b[1;33m\u001b[0m\u001b[0m\n\u001b[1;32m     15\u001b[0m     \u001b[1;32mfor\u001b[0m \u001b[0meachhouse\u001b[0m \u001b[1;32min\u001b[0m \u001b[0mrent_list\u001b[0m\u001b[1;33m:\u001b[0m\u001b[1;33m\u001b[0m\u001b[0m\n\u001b[0;32m---> 16\u001b[0;31m         \u001b[0mcomment\u001b[0m \u001b[1;33m=\u001b[0m \u001b[0meachhouse\u001b[0m\u001b[1;33m.\u001b[0m\u001b[0mfind_element_by_css_selector\u001b[0m\u001b[1;33m(\u001b[0m\u001b[1;34m'span.text_5mbkop-o_O-size_micro_16wifzf-o_O-inline_g86r3e'\u001b[0m\u001b[1;33m)\u001b[0m\u001b[1;33m\u001b[0m\u001b[0m\n\u001b[0m\u001b[1;32m     17\u001b[0m         \u001b[0mcomment\u001b[0m \u001b[1;33m=\u001b[0m \u001b[0mcomment\u001b[0m\u001b[1;33m.\u001b[0m\u001b[0mtext\u001b[0m\u001b[1;33m\u001b[0m\u001b[0m\n\u001b[1;32m     18\u001b[0m         \u001b[0mprice\u001b[0m \u001b[1;33m=\u001b[0m \u001b[0meachhouse\u001b[0m\u001b[1;33m.\u001b[0m\u001b[0mfind_element_by_css_selector\u001b[0m\u001b[1;33m(\u001b[0m\u001b[1;34m'div.priceContainer_4ml1ll'\u001b[0m\u001b[1;33m)\u001b[0m\u001b[1;33m\u001b[0m\u001b[0m\n",
      "\u001b[0;32mC:\\ProgramData\\Anaconda3\\lib\\site-packages\\selenium\\webdriver\\remote\\webelement.py\u001b[0m in \u001b[0;36mfind_element_by_css_selector\u001b[0;34m(self, css_selector)\u001b[0m\n\u001b[1;32m    305\u001b[0m             \u001b[1;33m-\u001b[0m \u001b[0mcss_selector\u001b[0m \u001b[1;33m-\u001b[0m \u001b[0mCSS\u001b[0m \u001b[0mselctor\u001b[0m \u001b[0mstring\u001b[0m\u001b[1;33m,\u001b[0m \u001b[0mex\u001b[0m\u001b[1;33m:\u001b[0m \u001b[1;34m'a.nav#home'\u001b[0m\u001b[1;33m\u001b[0m\u001b[0m\n\u001b[1;32m    306\u001b[0m         \"\"\"\n\u001b[0;32m--> 307\u001b[0;31m         \u001b[1;32mreturn\u001b[0m \u001b[0mself\u001b[0m\u001b[1;33m.\u001b[0m\u001b[0mfind_element\u001b[0m\u001b[1;33m(\u001b[0m\u001b[0mby\u001b[0m\u001b[1;33m=\u001b[0m\u001b[0mBy\u001b[0m\u001b[1;33m.\u001b[0m\u001b[0mCSS_SELECTOR\u001b[0m\u001b[1;33m,\u001b[0m \u001b[0mvalue\u001b[0m\u001b[1;33m=\u001b[0m\u001b[0mcss_selector\u001b[0m\u001b[1;33m)\u001b[0m\u001b[1;33m\u001b[0m\u001b[0m\n\u001b[0m\u001b[1;32m    308\u001b[0m \u001b[1;33m\u001b[0m\u001b[0m\n\u001b[1;32m    309\u001b[0m     \u001b[1;32mdef\u001b[0m \u001b[0mfind_elements_by_css_selector\u001b[0m\u001b[1;33m(\u001b[0m\u001b[0mself\u001b[0m\u001b[1;33m,\u001b[0m \u001b[0mcss_selector\u001b[0m\u001b[1;33m)\u001b[0m\u001b[1;33m:\u001b[0m\u001b[1;33m\u001b[0m\u001b[0m\n",
      "\u001b[0;32mC:\\ProgramData\\Anaconda3\\lib\\site-packages\\selenium\\webdriver\\remote\\webelement.py\u001b[0m in \u001b[0;36mfind_element\u001b[0;34m(self, by, value)\u001b[0m\n\u001b[1;32m    508\u001b[0m \u001b[1;33m\u001b[0m\u001b[0m\n\u001b[1;32m    509\u001b[0m         return self._execute(Command.FIND_CHILD_ELEMENT,\n\u001b[0;32m--> 510\u001b[0;31m                              {\"using\": by, \"value\": value})['value']\n\u001b[0m\u001b[1;32m    511\u001b[0m \u001b[1;33m\u001b[0m\u001b[0m\n\u001b[1;32m    512\u001b[0m     \u001b[1;32mdef\u001b[0m \u001b[0mfind_elements\u001b[0m\u001b[1;33m(\u001b[0m\u001b[0mself\u001b[0m\u001b[1;33m,\u001b[0m \u001b[0mby\u001b[0m\u001b[1;33m=\u001b[0m\u001b[0mBy\u001b[0m\u001b[1;33m.\u001b[0m\u001b[0mID\u001b[0m\u001b[1;33m,\u001b[0m \u001b[0mvalue\u001b[0m\u001b[1;33m=\u001b[0m\u001b[1;32mNone\u001b[0m\u001b[1;33m)\u001b[0m\u001b[1;33m:\u001b[0m\u001b[1;33m\u001b[0m\u001b[0m\n",
      "\u001b[0;32mC:\\ProgramData\\Anaconda3\\lib\\site-packages\\selenium\\webdriver\\remote\\webelement.py\u001b[0m in \u001b[0;36m_execute\u001b[0;34m(self, command, params)\u001b[0m\n\u001b[1;32m    491\u001b[0m             \u001b[0mparams\u001b[0m \u001b[1;33m=\u001b[0m \u001b[1;33m{\u001b[0m\u001b[1;33m}\u001b[0m\u001b[1;33m\u001b[0m\u001b[0m\n\u001b[1;32m    492\u001b[0m         \u001b[0mparams\u001b[0m\u001b[1;33m[\u001b[0m\u001b[1;34m'id'\u001b[0m\u001b[1;33m]\u001b[0m \u001b[1;33m=\u001b[0m \u001b[0mself\u001b[0m\u001b[1;33m.\u001b[0m\u001b[0m_id\u001b[0m\u001b[1;33m\u001b[0m\u001b[0m\n\u001b[0;32m--> 493\u001b[0;31m         \u001b[1;32mreturn\u001b[0m \u001b[0mself\u001b[0m\u001b[1;33m.\u001b[0m\u001b[0m_parent\u001b[0m\u001b[1;33m.\u001b[0m\u001b[0mexecute\u001b[0m\u001b[1;33m(\u001b[0m\u001b[0mcommand\u001b[0m\u001b[1;33m,\u001b[0m \u001b[0mparams\u001b[0m\u001b[1;33m)\u001b[0m\u001b[1;33m\u001b[0m\u001b[0m\n\u001b[0m\u001b[1;32m    494\u001b[0m \u001b[1;33m\u001b[0m\u001b[0m\n\u001b[1;32m    495\u001b[0m     \u001b[1;32mdef\u001b[0m \u001b[0mfind_element\u001b[0m\u001b[1;33m(\u001b[0m\u001b[0mself\u001b[0m\u001b[1;33m,\u001b[0m \u001b[0mby\u001b[0m\u001b[1;33m=\u001b[0m\u001b[0mBy\u001b[0m\u001b[1;33m.\u001b[0m\u001b[0mID\u001b[0m\u001b[1;33m,\u001b[0m \u001b[0mvalue\u001b[0m\u001b[1;33m=\u001b[0m\u001b[1;32mNone\u001b[0m\u001b[1;33m)\u001b[0m\u001b[1;33m:\u001b[0m\u001b[1;33m\u001b[0m\u001b[0m\n",
      "\u001b[0;32mC:\\ProgramData\\Anaconda3\\lib\\site-packages\\selenium\\webdriver\\remote\\webdriver.py\u001b[0m in \u001b[0;36mexecute\u001b[0;34m(self, driver_command, params)\u001b[0m\n\u001b[1;32m    250\u001b[0m         \u001b[0mresponse\u001b[0m \u001b[1;33m=\u001b[0m \u001b[0mself\u001b[0m\u001b[1;33m.\u001b[0m\u001b[0mcommand_executor\u001b[0m\u001b[1;33m.\u001b[0m\u001b[0mexecute\u001b[0m\u001b[1;33m(\u001b[0m\u001b[0mdriver_command\u001b[0m\u001b[1;33m,\u001b[0m \u001b[0mparams\u001b[0m\u001b[1;33m)\u001b[0m\u001b[1;33m\u001b[0m\u001b[0m\n\u001b[1;32m    251\u001b[0m         \u001b[1;32mif\u001b[0m \u001b[0mresponse\u001b[0m\u001b[1;33m:\u001b[0m\u001b[1;33m\u001b[0m\u001b[0m\n\u001b[0;32m--> 252\u001b[0;31m             \u001b[0mself\u001b[0m\u001b[1;33m.\u001b[0m\u001b[0merror_handler\u001b[0m\u001b[1;33m.\u001b[0m\u001b[0mcheck_response\u001b[0m\u001b[1;33m(\u001b[0m\u001b[0mresponse\u001b[0m\u001b[1;33m)\u001b[0m\u001b[1;33m\u001b[0m\u001b[0m\n\u001b[0m\u001b[1;32m    253\u001b[0m             response['value'] = self._unwrap_value(\n\u001b[1;32m    254\u001b[0m                 response.get('value', None))\n",
      "\u001b[0;32mC:\\ProgramData\\Anaconda3\\lib\\site-packages\\selenium\\webdriver\\remote\\errorhandler.py\u001b[0m in \u001b[0;36mcheck_response\u001b[0;34m(self, response)\u001b[0m\n\u001b[1;32m    192\u001b[0m         \u001b[1;32melif\u001b[0m \u001b[0mexception_class\u001b[0m \u001b[1;33m==\u001b[0m \u001b[0mUnexpectedAlertPresentException\u001b[0m \u001b[1;32mand\u001b[0m \u001b[1;34m'alert'\u001b[0m \u001b[1;32min\u001b[0m \u001b[0mvalue\u001b[0m\u001b[1;33m:\u001b[0m\u001b[1;33m\u001b[0m\u001b[0m\n\u001b[1;32m    193\u001b[0m             \u001b[1;32mraise\u001b[0m \u001b[0mexception_class\u001b[0m\u001b[1;33m(\u001b[0m\u001b[0mmessage\u001b[0m\u001b[1;33m,\u001b[0m \u001b[0mscreen\u001b[0m\u001b[1;33m,\u001b[0m \u001b[0mstacktrace\u001b[0m\u001b[1;33m,\u001b[0m \u001b[0mvalue\u001b[0m\u001b[1;33m[\u001b[0m\u001b[1;34m'alert'\u001b[0m\u001b[1;33m]\u001b[0m\u001b[1;33m.\u001b[0m\u001b[0mget\u001b[0m\u001b[1;33m(\u001b[0m\u001b[1;34m'text'\u001b[0m\u001b[1;33m)\u001b[0m\u001b[1;33m)\u001b[0m\u001b[1;33m\u001b[0m\u001b[0m\n\u001b[0;32m--> 194\u001b[0;31m         \u001b[1;32mraise\u001b[0m \u001b[0mexception_class\u001b[0m\u001b[1;33m(\u001b[0m\u001b[0mmessage\u001b[0m\u001b[1;33m,\u001b[0m \u001b[0mscreen\u001b[0m\u001b[1;33m,\u001b[0m \u001b[0mstacktrace\u001b[0m\u001b[1;33m)\u001b[0m\u001b[1;33m\u001b[0m\u001b[0m\n\u001b[0m\u001b[1;32m    195\u001b[0m \u001b[1;33m\u001b[0m\u001b[0m\n\u001b[1;32m    196\u001b[0m     \u001b[1;32mdef\u001b[0m \u001b[0m_value_or_default\u001b[0m\u001b[1;33m(\u001b[0m\u001b[0mself\u001b[0m\u001b[1;33m,\u001b[0m \u001b[0mobj\u001b[0m\u001b[1;33m,\u001b[0m \u001b[0mkey\u001b[0m\u001b[1;33m,\u001b[0m \u001b[0mdefault\u001b[0m\u001b[1;33m)\u001b[0m\u001b[1;33m:\u001b[0m\u001b[1;33m\u001b[0m\u001b[0m\n",
      "\u001b[0;31mNoSuchElementException\u001b[0m: Message: Unable to locate element: {\"method\":\"css selector\",\"selector\":\"span.text_5mbkop-o_O-size_micro_16wifzf-o_O-inline_g86r3e\"}\nStacktrace:\n    at FirefoxDriver.prototype.findElementInternal_ (file:///C:/Users/ADMINI~1/AppData/Local/Temp/tmpd1hjwk7g/extensions/fxdriver@googlecode.com/components/driver-component.js:10991)\n    at FirefoxDriver.prototype.findChildElement (file:///C:/Users/ADMINI~1/AppData/Local/Temp/tmpd1hjwk7g/extensions/fxdriver@googlecode.com/components/driver-component.js:11003)\n    at DelayedCommand.prototype.executeInternal_/k (file:///C:/Users/ADMINI~1/AppData/Local/Temp/tmpd1hjwk7g/extensions/fxdriver@googlecode.com/components/command-processor.js:12877)\n    at DelayedCommand.prototype.executeInternal_ (file:///C:/Users/ADMINI~1/AppData/Local/Temp/tmpd1hjwk7g/extensions/fxdriver@googlecode.com/components/command-processor.js:12882)\n    at DelayedCommand.prototype.execute/< (file:///C:/Users/ADMINI~1/AppData/Local/Temp/tmpd1hjwk7g/extensions/fxdriver@googlecode.com/components/command-processor.js:12824)"
     ]
    }
   ],
   "source": [
    "from selenium import webdriver\n",
    "from selenium.webdriver.firefox.firefox_binary import FirefoxBinary\n",
    "import time\n",
    "\n",
    "caps = webdriver.DesiredCapabilities().FIREFOX\n",
    "caps[\"marionette\"] = False\n",
    "binary = FirefoxBinary(r'D:\\Program Files\\Mozilla Firefox\\firefox.exe')\n",
    "#把上述地址改成你电脑中Firefox程序的地址\n",
    "driver = webdriver.Firefox(firefox_binary=binary, capabilities=caps)\n",
    "\n",
    "for i in range(1,21):\n",
    "    driver.get(\"https://zh.airbnb.com/s/Shenzhen--China?page=\" + str(i))\n",
    "    time.sleep(5)\n",
    "    rent_list = driver.find_elements_by_css_selector('div.infoContainer_v72lrv')\n",
    "    for eachhouse in rent_list:\n",
    "        comment = eachhouse.find_element_by_css_selector('span.text_5mbkop-o_O-size_micro_16wifzf-o_O-inline_g86r3e')\n",
    "        comment = comment.text\n",
    "        price = eachhouse.find_element_by_css_selector('div.priceContainer_4ml1ll')\n",
    "        price = price.text[4:]\n",
    "        name = eachhouse.find_element_by_css_selector('div.listingNameContainer_kq7ac0-o_O-ellipsized_1iurgbx')\n",
    "        name = name.text\n",
    "        details = eachhouse.find_elements_by_css_selector('span.detailWithoutWrap_j1kt73')\n",
    "        detail_list = [i.text for i in details]\n",
    "        house_type = detail_list[0]\n",
    "        no_bed = detail_list[1]\n",
    "        no_visitor = detail_list[2]\n",
    "        print (comment, price, name, house_type, no_bed, no_visitor)"
   ]
  },
  {
   "cell_type": "code",
   "execution_count": null,
   "metadata": {
    "collapsed": true
   },
   "outputs": [],
   "source": []
  }
 ],
 "metadata": {
  "kernelspec": {
   "display_name": "Python 3",
   "language": "python",
   "name": "python3"
  },
  "language_info": {
   "codemirror_mode": {
    "name": "ipython",
    "version": 3
   },
   "file_extension": ".py",
   "mimetype": "text/x-python",
   "name": "python",
   "nbconvert_exporter": "python",
   "pygments_lexer": "ipython3",
   "version": "3.6.0"
  }
 },
 "nbformat": 4,
 "nbformat_minor": 2
}

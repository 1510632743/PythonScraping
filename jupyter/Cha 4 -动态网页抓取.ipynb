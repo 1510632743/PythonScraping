{
 "cells": [
  {
   "cell_type": "markdown",
   "metadata": {},
   "source": [
    "# 4.2解析真实地址抓取"
   ]
  },
  {
   "cell_type": "code",
   "execution_count": 1,
   "metadata": {
    "collapsed": false
   },
   "outputs": [
    {
     "name": "stdout",
     "output_type": "stream",
     "text": [
      "{\"code\":1,\"msg\":\"success\",\"data\":{\"commentIds\":[\"82858340\",\"82859022\",\"82856655\",\"82857897\",\"82857882\",\"82858277\",\"82858264\",\"82856583\",\"82857799\",\"82858237\",\"82858166\",\"82856426\",\"82858072\",\"82857541\",\"82262403\",\"82263187\",\"82261719\",\"82263143\",\"82261686\",\"82262280\",\"82262249\",\"82260679\",\"82262203\",\"82261307\",\"82261285\",\"82259806\",\"82259782\",\"82258666\",\"82261217\",\"82260234\"],\"comments\":{\"82857882\":{\"commentId\":82857882,\"createTime\":\"2017-05-10 19:48:31\",\"buildLevel\":1,\"content\":\"第31条测试评论\",\"vote\":0,\"against\":0,\"shareCount\":0,\"favCount\":0,\"isDel\":false,\"anonymous\":false,\"user\":{\"userId\":9252940,\"nickname\":\"141769766\",\"location\":\"香港\",\"avatar\":\"https://simg.ws.126.net/e/img5.cache.netease.com/tie/images/yun/photo_default_62.png.39x39.100.jpg\",\"title\":null,\"vipInfo\":\"\",\"label\":\"\",\"id\":\"dGFuZ19za3lAMTYzLmNvbQ==\",\"authInfo\":\"\",\"redNameInfo\":[]},\"imageUrl\":null,\"tag\":null,\"ext\":null,\"ip\":\"61.93.*.*\",\"source\":\"web\",\"postId\":\"-8419873253791115244_82857882\",\"unionState\":null,\"productKey\":\"\",\"siteName\":\"Santos\",\"state\":null,\"old\":0},\"82858340\":{\"commentId\":82858340,\"createTime\":\"2017-05-10 19:48:56\",\"buildLevel\":1,\"content\":\"第35条测试评论\",\"vote\":0,\"against\":0,\"shareCount\":0,\"favCount\":0,\"isDel\":false,\"anonymous\":false,\"user\":{\"userId\":9252940,\"nickname\":\"141769766\",\"location\":\"香港\",\"avatar\":\"https://simg.ws.126.net/e/img5.cache.netease.com/tie/images/yun/photo_default_62.png.39x39.100.jpg\",\"title\":null,\"vipInfo\":\"\",\"label\":\"\",\"id\":\"dGFuZ19za3lAMTYzLmNvbQ==\",\"authInfo\":\"\",\"redNameInfo\":[]},\"imageUrl\":null,\"tag\":null,\"ext\":null,\"ip\":\"61.93.*.*\",\"source\":\"web\",\"postId\":\"-8419873253791115244_82858340\",\"unionState\":null,\"productKey\":\"\",\"siteName\":\"Santos\",\"state\":null,\"old\":0},\"82261285\":{\"commentId\":82261285,\"createTime\":\"2017-05-09 22:41:36\",\"buildLevel\":1,\"content\":\"第十一条测试评论\",\"vote\":0,\"against\":0,\"shareCount\":0,\"favCount\":0,\"isDel\":false,\"anonymous\":false,\"user\":{\"userId\":9252940,\"nickname\":\"141769766\",\"location\":\"香港\",\"avatar\":\"https://simg.ws.126.net/e/img5.cache.netease.com/tie/images/yun/photo_default_62.png.39x39.100.jpg\",\"title\":null,\"vipInfo\":\"\",\"label\":\"\",\"id\":\"dGFuZ19za3lAMTYzLmNvbQ==\",\"authInfo\":\"\",\"redNameInfo\":[]},\"imageUrl\":null,\"tag\":null,\"ext\":null,\"ip\":\"116.49.*.*\",\"source\":\"web\",\"postId\":\"-8419873253791115244_82261285\",\"unionState\":null,\"productKey\":\"\",\"siteName\":\"Santos\",\"state\":null,\"old\":0},\"82262203\":{\"commentId\":82262203,\"createTime\":\"2017-05-09 22:43:50\",\"buildLevel\":1,\"content\":\"第十三条测试评论\",\"vote\":0,\"against\":0,\"shareCount\":0,\"favCount\":0,\"isDel\":false,\"anonymous\":false,\"user\":{\"userId\":9252940,\"nickname\":\"141769766\",\"location\":\"香港\",\"avatar\":\"https://simg.ws.126.net/e/img5.cache.netease.com/tie/images/yun/photo_default_62.png.39x39.100.jpg\",\"title\":null,\"vipInfo\":\"\",\"label\":\"\",\"id\":\"dGFuZ19za3lAMTYzLmNvbQ==\",\"authInfo\":\"\",\"redNameInfo\":[]},\"imageUrl\":null,\"tag\":null,\"ext\":null,\"ip\":\"116.49.*.*\",\"source\":\"web\",\"postId\":\"-8419873253791115244_82262203\",\"unionState\":null,\"productKey\":\"\",\"siteName\":\"Santos\",\"state\":null,\"old\":0},\"82261307\":{\"commentId\":82261307,\"createTime\":\"2017-05-09 22:41:42\",\"buildLevel\":1,\"content\":\"第十二条测试评论\",\"vote\":0,\"against\":0,\"shareCount\":0,\"favCount\":0,\"isDel\":false,\"anonymous\":false,\"user\":{\"userId\":9252940,\"nickname\":\"141769766\",\"location\":\"香港\",\"avatar\":\"https://simg.ws.126.net/e/img5.cache.netease.com/tie/images/yun/photo_default_62.png.39x39.100.jpg\",\"title\":null,\"vipInfo\":\"\",\"label\":\"\",\"id\":\"dGFuZ19za3lAMTYzLmNvbQ==\",\"authInfo\":\"\",\"redNameInfo\":[]},\"imageUrl\":null,\"tag\":null,\"ext\":null,\"ip\":\"116.49.*.*\",\"source\":\"web\",\"postId\":\"-8419873253791115244_82261307\",\"unionState\":null,\"productKey\":\"\",\"siteName\":\"Santos\",\"state\":null,\"old\":0},\"82262249\":{\"commentId\":82262249,\"createTime\":\"2017-05-09 22:44:06\",\"buildLevel\":1,\"content\":\"第十五条测试评论\",\"vote\":0,\"against\":0,\"shareCount\":0,\"favCount\":0,\"isDel\":false,\"anonymous\":false,\"user\":{\"userId\":9252940,\"nickname\":\"141769766\",\"location\":\"香港\",\"avatar\":\"https://simg.ws.126.net/e/img5.cache.netease.com/tie/images/yun/photo_default_62.png.39x39.100.jpg\",\"title\":null,\"vipInfo\":\"\",\"label\":\"\",\"id\":\"dGFuZ19za3lAMTYzLmNvbQ==\",\"authInfo\":\"\",\"redNameInfo\":[]},\"imageUrl\":null,\"tag\":null,\"ext\":null,\"ip\":\"116.49.*.*\",\"source\":\"web\",\"postId\":\"-8419873253791115244_82262249\",\"unionState\":null,\"productKey\":\"\",\"siteName\":\"Santos\",\"state\":null,\"old\":0},\"82259806\":{\"commentId\":82259806,\"createTime\":\"2017-05-09 22:41:29\",\"buildLevel\":1,\"content\":\"第十条测试评论\",\"vote\":0,\"against\":0,\"shareCount\":0,\"favCount\":0,\"isDel\":false,\"anonymous\":false,\"user\":{\"userId\":9252940,\"nickname\":\"141769766\",\"location\":\"香港\",\"avatar\":\"https://simg.ws.126.net/e/img5.cache.netease.com/tie/images/yun/photo_default_62.png.39x39.100.jpg\",\"title\":null,\"vipInfo\":\"\",\"label\":\"\",\"id\":\"dGFuZ19za3lAMTYzLmNvbQ==\",\"authInfo\":\"\",\"redNameInfo\":[]},\"imageUrl\":null,\"tag\":null,\"ext\":null,\"ip\":\"116.49.*.*\",\"source\":\"web\",\"postId\":\"-8419873253791115244_82259806\",\"unionState\":null,\"productKey\":\"\",\"siteName\":\"Santos\",\"state\":null,\"old\":0},\"82858264\":{\"commentId\":82858264,\"createTime\":\"2017-05-10 19:48:11\",\"buildLevel\":1,\"content\":\"第29条测试评论\",\"vote\":0,\"against\":0,\"shareCount\":0,\"favCount\":0,\"isDel\":false,\"anonymous\":false,\"user\":{\"userId\":9252940,\"nickname\":\"141769766\",\"location\":\"香港\",\"avatar\":\"https://simg.ws.126.net/e/img5.cache.netease.com/tie/images/yun/photo_default_62.png.39x39.100.jpg\",\"title\":null,\"vipInfo\":\"\",\"label\":\"\",\"id\":\"dGFuZ19za3lAMTYzLmNvbQ==\",\"authInfo\":\"\",\"redNameInfo\":[]},\"imageUrl\":null,\"tag\":null,\"ext\":null,\"ip\":\"61.93.*.*\",\"source\":\"web\",\"postId\":\"-8419873253791115244_82858264\",\"unionState\":null,\"productKey\":\"\",\"siteName\":\"Santos\",\"state\":null,\"old\":0},\"82858166\":{\"commentId\":82858166,\"createTime\":\"2017-05-10 19:47:27\",\"buildLevel\":1,\"content\":\"第25条测试评论\",\"vote\":0,\"against\":0,\"shareCount\":0,\"favCount\":0,\"isDel\":false,\"anonymous\":false,\"user\":{\"userId\":9252940,\"nickname\":\"141769766\",\"location\":\"香港\",\"avatar\":\"https://simg.ws.126.net/e/img5.cache.netease.com/tie/images/yun/photo_default_62.png.39x39.100.jpg\",\"title\":null,\"vipInfo\":\"\",\"label\":\"\",\"id\":\"dGFuZ19za3lAMTYzLmNvbQ==\",\"authInfo\":\"\",\"redNameInfo\":[]},\"imageUrl\":null,\"tag\":null,\"ext\":null,\"ip\":\"61.93.*.*\",\"source\":\"web\",\"postId\":\"-8419873253791115244_82858166\",\"unionState\":null,\"productKey\":\"\",\"siteName\":\"Santos\",\"state\":null,\"old\":0},\"82260234\":{\"commentId\":82260234,\"createTime\":\"2017-05-09 22:40:54\",\"buildLevel\":1,\"content\":\"第六条测试评论\",\"vote\":0,\"against\":0,\"shareCount\":0,\"favCount\":0,\"isDel\":false,\"anonymous\":false,\"user\":{\"userId\":9252940,\"nickname\":\"141769766\",\"location\":\"香港\",\"avatar\":\"https://simg.ws.126.net/e/img5.cache.netease.com/tie/images/yun/photo_default_62.png.39x39.100.jpg\",\"title\":null,\"vipInfo\":\"\",\"label\":\"\",\"id\":\"dGFuZ19za3lAMTYzLmNvbQ==\",\"authInfo\":\"\",\"redNameInfo\":[]},\"imageUrl\":null,\"tag\":null,\"ext\":null,\"ip\":\"116.49.*.*\",\"source\":\"web\",\"postId\":\"-8419873253791115244_82260234\",\"unionState\":null,\"productKey\":\"\",\"siteName\":\"Santos\",\"state\":null,\"old\":0},\"82261686\":{\"commentId\":82261686,\"createTime\":\"2017-05-09 22:44:20\",\"buildLevel\":1,\"content\":\"第十七条测试评论\",\"vote\":0,\"against\":0,\"shareCount\":0,\"favCount\":0,\"isDel\":false,\"anonymous\":false,\"user\":{\"userId\":9252940,\"nickname\":\"141769766\",\"location\":\"香港\",\"avatar\":\"https://simg.ws.126.net/e/img5.cache.netease.com/tie/images/yun/photo_default_62.png.39x39.100.jpg\",\"title\":null,\"vipInfo\":\"\",\"label\":\"\",\"id\":\"dGFuZ19za3lAMTYzLmNvbQ==\",\"authInfo\":\"\",\"redNameInfo\":[]},\"imageUrl\":null,\"tag\":null,\"ext\":null,\"ip\":\"116.49.*.*\",\"source\":\"web\",\"postId\":\"-8419873253791115244_82261686\",\"unionState\":null,\"productKey\":\"\",\"siteName\":\"Santos\",\"state\":null,\"old\":0},\"82261719\":{\"commentId\":82261719,\"createTime\":\"2017-05-09 22:44:38\",\"buildLevel\":1,\"content\":\"第十九条测试评论\",\"vote\":0,\"against\":0,\"shareCount\":0,\"favCount\":0,\"isDel\":false,\"anonymous\":false,\"user\":{\"userId\":9252940,\"nickname\":\"141769766\",\"location\":\"香港\",\"avatar\":\"https://simg.ws.126.net/e/img5.cache.netease.com/tie/images/yun/photo_default_62.png.39x39.100.jpg\",\"title\":null,\"vipInfo\":\"\",\"label\":\"\",\"id\":\"dGFuZ19za3lAMTYzLmNvbQ==\",\"authInfo\":\"\",\"redNameInfo\":[]},\"imageUrl\":null,\"tag\":null,\"ext\":null,\"ip\":\"116.49.*.*\",\"source\":\"web\",\"postId\":\"-8419873253791115244_82261719\",\"unionState\":null,\"productKey\":\"\",\"siteName\":\"Santos\",\"state\":null,\"old\":0},\"82261217\":{\"commentId\":82261217,\"createTime\":\"2017-05-09 22:41:02\",\"buildLevel\":1,\"content\":\"第七条测试评论\",\"vote\":0,\"against\":0,\"shareCount\":0,\"favCount\":0,\"isDel\":false,\"anonymous\":false,\"user\":{\"userId\":9252940,\"nickname\":\"141769766\",\"location\":\"香港\",\"avatar\":\"https://simg.ws.126.net/e/img5.cache.netease.com/tie/images/yun/photo_default_62.png.39x39.100.jpg\",\"title\":null,\"vipInfo\":\"\",\"label\":\"\",\"id\":\"dGFuZ19za3lAMTYzLmNvbQ==\",\"authInfo\":\"\",\"redNameInfo\":[]},\"imageUrl\":null,\"tag\":null,\"ext\":null,\"ip\":\"116.49.*.*\",\"source\":\"web\",\"postId\":\"-8419873253791115244_82261217\",\"unionState\":null,\"productKey\":\"\",\"siteName\":\"Santos\",\"state\":null,\"old\":0},\"82857541\":{\"commentId\":82857541,\"createTime\":\"2017-05-10 19:46:33\",\"buildLevel\":1,\"content\":\"第22条测试评论\",\"vote\":0,\"against\":0,\"shareCount\":0,\"favCount\":0,\"isDel\":false,\"anonymous\":false,\"user\":{\"userId\":9252940,\"nickname\":\"141769766\",\"location\":\"香港\",\"avatar\":\"https://simg.ws.126.net/e/img5.cache.netease.com/tie/images/yun/photo_default_62.png.39x39.100.jpg\",\"title\":null,\"vipInfo\":\"\",\"label\":\"\",\"id\":\"dGFuZ19za3lAMTYzLmNvbQ==\",\"authInfo\":\"\",\"redNameInfo\":[]},\"imageUrl\":null,\"tag\":null,\"ext\":null,\"ip\":\"61.93.*.*\",\"source\":\"web\",\"postId\":\"-8419873253791115244_82857541\",\"unionState\":null,\"productKey\":\"\",\"siteName\":\"Santos\",\"state\":null,\"old\":0},\"82262403\":{\"commentId\":82262403,\"createTime\":\"2017-05-09 22:44:53\",\"buildLevel\":1,\"content\":\"第二十一条测试评论\",\"vote\":0,\"against\":0,\"shareCount\":0,\"favCount\":0,\"isDel\":false,\"anonymous\":false,\"user\":{\"userId\":9252940,\"nickname\":\"141769766\",\"location\":\"香港\",\"avatar\":\"https://simg.ws.126.net/e/img5.cache.netease.com/tie/images/yun/photo_default_62.png.39x39.100.jpg\",\"title\":null,\"vipInfo\":\"\",\"label\":\"\",\"id\":\"dGFuZ19za3lAMTYzLmNvbQ==\",\"authInfo\":\"\",\"redNameInfo\":[]},\"imageUrl\":null,\"tag\":null,\"ext\":null,\"ip\":\"116.49.*.*\",\"source\":\"web\",\"postId\":\"-8419873253791115244_82262403\",\"unionState\":null,\"productKey\":\"\",\"siteName\":\"Santos\",\"state\":null,\"old\":0},\"82263143\":{\"commentId\":82263143,\"createTime\":\"2017-05-09 22:44:30\",\"buildLevel\":1,\"content\":\"第十八条测试评论\",\"vote\":0,\"against\":0,\"shareCount\":0,\"favCount\":0,\"isDel\":false,\"anonymous\":false,\"user\":{\"userId\":9252940,\"nickname\":\"141769766\",\"location\":\"香港\",\"avatar\":\"https://simg.ws.126.net/e/img5.cache.netease.com/tie/images/yun/photo_default_62.png.39x39.100.jpg\",\"title\":null,\"vipInfo\":\"\",\"label\":\"\",\"id\":\"dGFuZ19za3lAMTYzLmNvbQ==\",\"authInfo\":\"\",\"redNameInfo\":[]},\"imageUrl\":null,\"tag\":null,\"ext\":null,\"ip\":\"116.49.*.*\",\"source\":\"web\",\"postId\":\"-8419873253791115244_82263143\",\"unionState\":null,\"productKey\":\"\",\"siteName\":\"Santos\",\"state\":null,\"old\":0},\"82857897\":{\"commentId\":82857897,\"createTime\":\"2017-05-10 19:48:38\",\"buildLevel\":1,\"content\":\"第32条测试评论\",\"vote\":0,\"against\":0,\"shareCount\":0,\"favCount\":0,\"isDel\":false,\"anonymous\":false,\"user\":{\"userId\":9252940,\"nickname\":\"141769766\",\"location\":\"香港\",\"avatar\":\"https://simg.ws.126.net/e/img5.cache.netease.com/tie/images/yun/photo_default_62.png.39x39.100.jpg\",\"title\":null,\"vipInfo\":\"\",\"label\":\"\",\"id\":\"dGFuZ19za3lAMTYzLmNvbQ==\",\"authInfo\":\"\",\"redNameInfo\":[]},\"imageUrl\":null,\"tag\":null,\"ext\":null,\"ip\":\"61.93.*.*\",\"source\":\"web\",\"postId\":\"-8419873253791115244_82857897\",\"unionState\":null,\"productKey\":\"\",\"siteName\":\"Santos\",\"state\":null,\"old\":0},\"82858277\":{\"commentId\":82858277,\"createTime\":\"2017-05-10 19:48:20\",\"buildLevel\":1,\"content\":\"第30条测试评论\",\"vote\":0,\"against\":0,\"shareCount\":0,\"favCount\":0,\"isDel\":false,\"anonymous\":false,\"user\":{\"userId\":9252940,\"nickname\":\"141769766\",\"location\":\"香港\",\"avatar\":\"https://simg.ws.126.net/e/img5.cache.netease.com/tie/images/yun/photo_default_62.png.39x39.100.jpg\",\"title\":null,\"vipInfo\":\"\",\"label\":\"\",\"id\":\"dGFuZ19za3lAMTYzLmNvbQ==\",\"authInfo\":\"\",\"redNameInfo\":[]},\"imageUrl\":null,\"tag\":null,\"ext\":null,\"ip\":\"61.93.*.*\",\"source\":\"web\",\"postId\":\"-8419873253791115244_82858277\",\"unionState\":null,\"productKey\":\"\",\"siteName\":\"Santos\",\"state\":null,\"old\":0},\"82857799\":{\"commentId\":82857799,\"createTime\":\"2017-05-10 19:48:00\",\"buildLevel\":1,\"content\":\"第27条测试评论\",\"vote\":0,\"against\":0,\"shareCount\":0,\"favCount\":0,\"isDel\":false,\"anonymous\":false,\"user\":{\"userId\":9252940,\"nickname\":\"141769766\",\"location\":\"香港\",\"avatar\":\"https://simg.ws.126.net/e/img5.cache.netease.com/tie/images/yun/photo_default_62.png.39x39.100.jpg\",\"title\":null,\"vipInfo\":\"\",\"label\":\"\",\"id\":\"dGFuZ19za3lAMTYzLmNvbQ==\",\"authInfo\":\"\",\"redNameInfo\":[]},\"imageUrl\":null,\"tag\":null,\"ext\":null,\"ip\":\"61.93.*.*\",\"source\":\"web\",\"postId\":\"-8419873253791115244_82857799\",\"unionState\":null,\"productKey\":\"\",\"siteName\":\"Santos\",\"state\":null,\"old\":0},\"82858072\":{\"commentId\":82858072,\"createTime\":\"2017-05-10 19:46:39\",\"buildLevel\":1,\"content\":\"第23条测试评论\",\"vote\":0,\"against\":0,\"shareCount\":0,\"favCount\":0,\"isDel\":false,\"anonymous\":false,\"user\":{\"userId\":9252940,\"nickname\":\"141769766\",\"location\":\"香港\",\"avatar\":\"https://simg.ws.126.net/e/img5.cache.netease.com/tie/images/yun/photo_default_62.png.39x39.100.jpg\",\"title\":null,\"vipInfo\":\"\",\"label\":\"\",\"id\":\"dGFuZ19za3lAMTYzLmNvbQ==\",\"authInfo\":\"\",\"redNameInfo\":[]},\"imageUrl\":null,\"tag\":null,\"ext\":null,\"ip\":\"61.93.*.*\",\"source\":\"web\",\"postId\":\"-8419873253791115244_82858072\",\"unionState\":null,\"productKey\":\"\",\"siteName\":\"Santos\",\"state\":null,\"old\":0},\"82263187\":{\"commentId\":82263187,\"createTime\":\"2017-05-09 22:44:46\",\"buildLevel\":1,\"content\":\"第二十条测试评论\",\"vote\":0,\"against\":0,\"shareCount\":0,\"favCount\":0,\"isDel\":false,\"anonymous\":false,\"user\":{\"userId\":9252940,\"nickname\":\"141769766\",\"location\":\"香港\",\"avatar\":\"https://simg.ws.126.net/e/img5.cache.netease.com/tie/images/yun/photo_default_62.png.39x39.100.jpg\",\"title\":null,\"vipInfo\":\"\",\"label\":\"\",\"id\":\"dGFuZ19za3lAMTYzLmNvbQ==\",\"authInfo\":\"\",\"redNameInfo\":[]},\"imageUrl\":null,\"tag\":null,\"ext\":null,\"ip\":\"116.49.*.*\",\"source\":\"web\",\"postId\":\"-8419873253791115244_82263187\",\"unionState\":null,\"productKey\":\"\",\"siteName\":\"Santos\",\"state\":null,\"old\":0},\"82259782\":{\"commentId\":82259782,\"createTime\":\"2017-05-09 22:41:19\",\"buildLevel\":1,\"content\":\"第九条测试评论\",\"vote\":0,\"against\":0,\"shareCount\":0,\"favCount\":0,\"isDel\":false,\"anonymous\":false,\"user\":{\"userId\":9252940,\"nickname\":\"141769766\",\"location\":\"香港\",\"avatar\":\"https://simg.ws.126.net/e/img5.cache.netease.com/tie/images/yun/photo_default_62.png.39x39.100.jpg\",\"title\":null,\"vipInfo\":\"\",\"label\":\"\",\"id\":\"dGFuZ19za3lAMTYzLmNvbQ==\",\"authInfo\":\"\",\"redNameInfo\":[]},\"imageUrl\":null,\"tag\":null,\"ext\":null,\"ip\":\"116.49.*.*\",\"source\":\"web\",\"postId\":\"-8419873253791115244_82259782\",\"unionState\":null,\"productKey\":\"\",\"siteName\":\"Santos\",\"state\":null,\"old\":0},\"82856426\":{\"commentId\":82856426,\"createTime\":\"2017-05-10 19:46:43\",\"buildLevel\":1,\"content\":\"第24条测试评论\",\"vote\":0,\"against\":0,\"shareCount\":0,\"favCount\":0,\"isDel\":false,\"anonymous\":false,\"user\":{\"userId\":9252940,\"nickname\":\"141769766\",\"location\":\"香港\",\"avatar\":\"https://simg.ws.126.net/e/img5.cache.netease.com/tie/images/yun/photo_default_62.png.39x39.100.jpg\",\"title\":null,\"vipInfo\":\"\",\"label\":\"\",\"id\":\"dGFuZ19za3lAMTYzLmNvbQ==\",\"authInfo\":\"\",\"redNameInfo\":[]},\"imageUrl\":null,\"tag\":null,\"ext\":null,\"ip\":\"61.93.*.*\",\"source\":\"web\",\"postId\":\"-8419873253791115244_82856426\",\"unionState\":null,\"productKey\":\"\",\"siteName\":\"Santos\",\"state\":null,\"old\":0},\"82856655\":{\"commentId\":82856655,\"createTime\":\"2017-05-10 19:48:44\",\"buildLevel\":1,\"content\":\"第33条测试评论\",\"vote\":0,\"against\":0,\"shareCount\":0,\"favCount\":0,\"isDel\":false,\"anonymous\":false,\"user\":{\"userId\":9252940,\"nickname\":\"141769766\",\"location\":\"香港\",\"avatar\":\"https://simg.ws.126.net/e/img5.cache.netease.com/tie/images/yun/photo_default_62.png.39x39.100.jpg\",\"title\":null,\"vipInfo\":\"\",\"label\":\"\",\"id\":\"dGFuZ19za3lAMTYzLmNvbQ==\",\"authInfo\":\"\",\"redNameInfo\":[]},\"imageUrl\":null,\"tag\":null,\"ext\":null,\"ip\":\"61.93.*.*\",\"source\":\"web\",\"postId\":\"-8419873253791115244_82856655\",\"unionState\":null,\"productKey\":\"\",\"siteName\":\"Santos\",\"state\":null,\"old\":0},\"82858237\":{\"commentId\":82858237,\"createTime\":\"2017-05-10 19:47:54\",\"buildLevel\":1,\"content\":\"第26条测试评论\",\"vote\":0,\"against\":0,\"shareCount\":0,\"favCount\":0,\"isDel\":false,\"anonymous\":false,\"user\":{\"userId\":9252940,\"nickname\":\"141769766\",\"location\":\"香港\",\"avatar\":\"https://simg.ws.126.net/e/img5.cache.netease.com/tie/images/yun/photo_default_62.png.39x39.100.jpg\",\"title\":null,\"vipInfo\":\"\",\"label\":\"\",\"id\":\"dGFuZ19za3lAMTYzLmNvbQ==\",\"authInfo\":\"\",\"redNameInfo\":[]},\"imageUrl\":null,\"tag\":null,\"ext\":null,\"ip\":\"61.93.*.*\",\"source\":\"web\",\"postId\":\"-8419873253791115244_82858237\",\"unionState\":null,\"productKey\":\"\",\"siteName\":\"Santos\",\"state\":null,\"old\":0},\"82859022\":{\"commentId\":82859022,\"createTime\":\"2017-05-10 19:48:50\",\"buildLevel\":1,\"content\":\"第34条测试评论\",\"vote\":0,\"against\":0,\"shareCount\":0,\"favCount\":0,\"isDel\":false,\"anonymous\":false,\"user\":{\"userId\":9252940,\"nickname\":\"141769766\",\"location\":\"香港\",\"avatar\":\"https://simg.ws.126.net/e/img5.cache.netease.com/tie/images/yun/photo_default_62.png.39x39.100.jpg\",\"title\":null,\"vipInfo\":\"\",\"label\":\"\",\"id\":\"dGFuZ19za3lAMTYzLmNvbQ==\",\"authInfo\":\"\",\"redNameInfo\":[]},\"imageUrl\":null,\"tag\":null,\"ext\":null,\"ip\":\"61.93.*.*\",\"source\":\"web\",\"postId\":\"-8419873253791115244_82859022\",\"unionState\":null,\"productKey\":\"\",\"siteName\":\"Santos\",\"state\":null,\"old\":0},\"82258666\":{\"commentId\":82258666,\"createTime\":\"2017-05-09 22:41:12\",\"buildLevel\":1,\"content\":\"第八条测试评论\",\"vote\":0,\"against\":0,\"shareCount\":0,\"favCount\":0,\"isDel\":false,\"anonymous\":false,\"user\":{\"userId\":9252940,\"nickname\":\"141769766\",\"location\":\"香港\",\"avatar\":\"https://simg.ws.126.net/e/img5.cache.netease.com/tie/images/yun/photo_default_62.png.39x39.100.jpg\",\"title\":null,\"vipInfo\":\"\",\"label\":\"\",\"id\":\"dGFuZ19za3lAMTYzLmNvbQ==\",\"authInfo\":\"\",\"redNameInfo\":[]},\"imageUrl\":null,\"tag\":null,\"ext\":null,\"ip\":\"116.49.*.*\",\"source\":\"web\",\"postId\":\"-8419873253791115244_82258666\",\"unionState\":null,\"productKey\":\"\",\"siteName\":\"Santos\",\"state\":null,\"old\":0},\"82856583\":{\"commentId\":82856583,\"createTime\":\"2017-05-10 19:48:05\",\"buildLevel\":1,\"content\":\"第28条测试评论\",\"vote\":0,\"against\":0,\"shareCount\":0,\"favCount\":0,\"isDel\":false,\"anonymous\":false,\"user\":{\"userId\":9252940,\"nickname\":\"141769766\",\"location\":\"香港\",\"avatar\":\"https://simg.ws.126.net/e/img5.cache.netease.com/tie/images/yun/photo_default_62.png.39x39.100.jpg\",\"title\":null,\"vipInfo\":\"\",\"label\":\"\",\"id\":\"dGFuZ19za3lAMTYzLmNvbQ==\",\"authInfo\":\"\",\"redNameInfo\":[]},\"imageUrl\":null,\"tag\":null,\"ext\":null,\"ip\":\"61.93.*.*\",\"source\":\"web\",\"postId\":\"-8419873253791115244_82856583\",\"unionState\":null,\"productKey\":\"\",\"siteName\":\"Santos\",\"state\":null,\"old\":0},\"82260679\":{\"commentId\":82260679,\"createTime\":\"2017-05-09 22:43:58\",\"buildLevel\":1,\"content\":\"第十四条测试评论\",\"vote\":0,\"against\":0,\"shareCount\":0,\"favCount\":0,\"isDel\":false,\"anonymous\":false,\"user\":{\"userId\":9252940,\"nickname\":\"141769766\",\"location\":\"香港\",\"avatar\":\"https://simg.ws.126.net/e/img5.cache.netease.com/tie/images/yun/photo_default_62.png.39x39.100.jpg\",\"title\":null,\"vipInfo\":\"\",\"label\":\"\",\"id\":\"dGFuZ19za3lAMTYzLmNvbQ==\",\"authInfo\":\"\",\"redNameInfo\":[]},\"imageUrl\":null,\"tag\":null,\"ext\":null,\"ip\":\"116.49.*.*\",\"source\":\"web\",\"postId\":\"-8419873253791115244_82260679\",\"unionState\":null,\"productKey\":\"\",\"siteName\":\"Santos\",\"state\":null,\"old\":0},\"82262280\":{\"commentId\":82262280,\"createTime\":\"2017-05-09 22:44:14\",\"buildLevel\":1,\"content\":\"第十六条测试评论\",\"vote\":0,\"against\":0,\"shareCount\":0,\"favCount\":0,\"isDel\":false,\"anonymous\":false,\"user\":{\"userId\":9252940,\"nickname\":\"141769766\",\"location\":\"香港\",\"avatar\":\"https://simg.ws.126.net/e/img5.cache.netease.com/tie/images/yun/photo_default_62.png.39x39.100.jpg\",\"title\":null,\"vipInfo\":\"\",\"label\":\"\",\"id\":\"dGFuZ19za3lAMTYzLmNvbQ==\",\"authInfo\":\"\",\"redNameInfo\":[]},\"imageUrl\":null,\"tag\":null,\"ext\":null,\"ip\":\"116.49.*.*\",\"source\":\"web\",\"postId\":\"-8419873253791115244_82262280\",\"unionState\":null,\"productKey\":\"\",\"siteName\":\"Santos\",\"state\":null,\"old\":0}},\"size\":35,\"docId\":\"-8419873253791115244\",\"currentTime\":\"2017-05-10 19:54:38\",\"siteName\":\"Santos\",\"title\":\"Hello world!\"}}\n"
     ]
    }
   ],
   "source": [
    "import requests\n",
    "\n",
    "link = \"\"\"https://api.gentie.163.com/products/\n",
    "aace1d69a0924085b4fe15d19cb03a78/threads/\n",
    "-8419873253791115244/comments/newList?\n",
    "offset=0&limit=30&showLevelThreshold=72&\n",
    "headLimit=1&tailLimit=2&ibc=yunTie&_=1494417192980\"\"\"\n",
    "headers = {'User-Agent' : 'Mozilla/5.0 (Windows; U; Windows NT 6.1; en-US; rv:1.9.1.6) Gecko/20091201 Firefox/3.5.6'} \n",
    "\n",
    "r = requests.get(link, headers= headers)\n",
    "print (r.text)"
   ]
  },
  {
   "cell_type": "code",
   "execution_count": 4,
   "metadata": {
    "collapsed": false,
    "scrolled": true
   },
   "outputs": [
    {
     "name": "stdout",
     "output_type": "stream",
     "text": [
      "第十条测试评论\n",
      "第34条测试评论\n",
      "第六条测试评论\n",
      "第31条测试评论\n",
      "第九条测试评论\n",
      "第十六条测试评论\n",
      "第27条测试评论\n",
      "第28条测试评论\n",
      "第十五条测试评论\n",
      "第25条测试评论\n",
      "第23条测试评论\n",
      "第十三条测试评论\n",
      "第二十条测试评论\n",
      "第26条测试评论\n",
      "第32条测试评论\n",
      "第十七条测试评论\n",
      "第24条测试评论\n",
      "第35条测试评论\n",
      "第十九条测试评论\n",
      "第十四条测试评论\n",
      "第十一条测试评论\n",
      "第十八条测试评论\n",
      "第二十一条测试评论\n",
      "第22条测试评论\n",
      "第八条测试评论\n",
      "第33条测试评论\n",
      "第29条测试评论\n",
      "第七条测试评论\n",
      "第十二条测试评论\n",
      "第30条测试评论\n"
     ]
    }
   ],
   "source": [
    "import json\n",
    "json_data = json.loads(r.text)\n",
    "comment_list = json_data['data']['comments']\n",
    "\n",
    "for eachone in comment_list:\n",
    "    message = comment_list[eachone]['content']\n",
    "    print (message)"
   ]
  },
  {
   "cell_type": "code",
   "execution_count": 5,
   "metadata": {
    "collapsed": false,
    "scrolled": true
   },
   "outputs": [
    {
     "name": "stdout",
     "output_type": "stream",
     "text": [
      "https://api.gentie.163.com/products/aace1d69a0924085b4fe15d19cb03a78/threads/-8419873253791115244/comments/newList?offset=0&limit=30&showLevelThreshold=72&headLimit=1&tailLimit=2&ibc=yunTie&_=1494427402001\n",
      "第十条测试评论\n",
      "第34条测试评论\n",
      "第六条测试评论\n",
      "第31条测试评论\n",
      "第九条测试评论\n",
      "第十六条测试评论\n",
      "第27条测试评论\n",
      "第28条测试评论\n",
      "第十五条测试评论\n",
      "第25条测试评论\n",
      "第23条测试评论\n",
      "第十三条测试评论\n",
      "第二十条测试评论\n",
      "第26条测试评论\n",
      "第32条测试评论\n",
      "第十七条测试评论\n",
      "第24条测试评论\n",
      "第35条测试评论\n",
      "第十九条测试评论\n",
      "第十四条测试评论\n",
      "第十一条测试评论\n",
      "第十八条测试评论\n",
      "第二十一条测试评论\n",
      "第22条测试评论\n",
      "第八条测试评论\n",
      "第33条测试评论\n",
      "第29条测试评论\n",
      "第七条测试评论\n",
      "第十二条测试评论\n",
      "第30条测试评论\n",
      "https://api.gentie.163.com/products/aace1d69a0924085b4fe15d19cb03a78/threads/-8419873253791115244/comments/newList?offset=30&limit=30&showLevelThreshold=72&headLimit=1&tailLimit=2&ibc=yunTie&_=1494427402001\n",
      "第三条测试评论\n",
      "第一条测试评论\n",
      "第五条测试评论\n",
      "第二条测试评论\n",
      "第四条测试评论\n"
     ]
    }
   ],
   "source": [
    "import requests\n",
    "import json\n",
    "\n",
    "def single_page_comment(link):\n",
    "    headers = {'User-Agent' : 'Mozilla/5.0 (Windows; U; Windows NT 6.1; en-US; rv:1.9.1.6) Gecko/20091201 Firefox/3.5.6'} \n",
    "    r = requests.get(link, headers= headers)\n",
    "    json_data = json.loads(r.text)\n",
    "    comment_list = json_data['data']['comments']\n",
    "    \n",
    "    for eachone in comment_list:\n",
    "        message = comment_list[eachone]['content']\n",
    "        print (message)\n",
    "\n",
    "for page in range(0,2):\n",
    "    link1 = \"https://api.gentie.163.com/products/aace1d69a0924085b4fe15d19cb03a78/threads/-8419873253791115244/comments/newList?offset=\"\n",
    "    link2 = \"&limit=30&showLevelThreshold=72&headLimit=1&tailLimit=2&ibc=yunTie&_=1494427402001\"\n",
    "    page_str = str(page * 30)\n",
    "    link = link1 + page_str + link2\n",
    "    print (link)\n",
    "    single_page_comment(link)"
   ]
  },
  {
   "cell_type": "markdown",
   "metadata": {},
   "source": [
    "# 4.3通过 selenium 模拟浏览器抓取"
   ]
  },
  {
   "cell_type": "markdown",
   "metadata": {},
   "source": [
    "## 4.3.1 selenium 的安装与基本介绍"
   ]
  },
  {
   "cell_type": "code",
   "execution_count": 1,
   "metadata": {
    "collapsed": false
   },
   "outputs": [
    {
     "name": "stdout",
     "output_type": "stream",
     "text": [
      "Requirement already satisfied: selenium in /Library/Frameworks/Python.framework/Versions/3.5/lib/python3.5/site-packages\r\n"
     ]
    }
   ],
   "source": [
    "! pip install selenium"
   ]
  },
  {
   "cell_type": "code",
   "execution_count": 7,
   "metadata": {
    "collapsed": false,
    "scrolled": true
   },
   "outputs": [
    {
     "ename": "KeyError",
     "evalue": "'sessionId'",
     "output_type": "error",
     "traceback": [
      "\u001b[0;31m---------------------------------------------------------------------------\u001b[0m",
      "\u001b[0;31mKeyError\u001b[0m                                  Traceback (most recent call last)",
      "\u001b[0;32m<ipython-input-7-7ff7a35cc1ef>\u001b[0m in \u001b[0;36m<module>\u001b[0;34m()\u001b[0m\n\u001b[1;32m      1\u001b[0m \u001b[0;32mfrom\u001b[0m \u001b[0mselenium\u001b[0m \u001b[0;32mimport\u001b[0m \u001b[0mwebdriver\u001b[0m\u001b[0;34m\u001b[0m\u001b[0m\n\u001b[0;32m----> 2\u001b[0;31m \u001b[0mdriver\u001b[0m \u001b[0;34m=\u001b[0m \u001b[0mwebdriver\u001b[0m\u001b[0;34m.\u001b[0m\u001b[0mFirefox\u001b[0m\u001b[0;34m(\u001b[0m\u001b[0;34m)\u001b[0m\u001b[0;34m\u001b[0m\u001b[0m\n\u001b[0m\u001b[1;32m      3\u001b[0m \u001b[0mdriver\u001b[0m\u001b[0;34m.\u001b[0m\u001b[0mget\u001b[0m\u001b[0;34m(\u001b[0m\u001b[0;34m\"http://www.santostang.com/2017/03/02/hello-world/\"\u001b[0m\u001b[0;34m)\u001b[0m\u001b[0;34m\u001b[0m\u001b[0m\n",
      "\u001b[0;32m/Users/santostang/anaconda/envs/py35/lib/python3.5/site-packages/selenium/webdriver/firefox/webdriver.py\u001b[0m in \u001b[0;36m__init__\u001b[0;34m(self, firefox_profile, firefox_binary, timeout, capabilities, proxy, executable_path, firefox_options, log_path)\u001b[0m\n\u001b[1;32m    148\u001b[0m                 \u001b[0mcommand_executor\u001b[0m\u001b[0;34m=\u001b[0m\u001b[0mexecutor\u001b[0m\u001b[0;34m,\u001b[0m\u001b[0;34m\u001b[0m\u001b[0m\n\u001b[1;32m    149\u001b[0m                 \u001b[0mdesired_capabilities\u001b[0m\u001b[0;34m=\u001b[0m\u001b[0mcapabilities\u001b[0m\u001b[0;34m,\u001b[0m\u001b[0;34m\u001b[0m\u001b[0m\n\u001b[0;32m--> 150\u001b[0;31m                 keep_alive=True)\n\u001b[0m\u001b[1;32m    151\u001b[0m \u001b[0;34m\u001b[0m\u001b[0m\n\u001b[1;32m    152\u001b[0m         \u001b[0;31m# Selenium remote\u001b[0m\u001b[0;34m\u001b[0m\u001b[0;34m\u001b[0m\u001b[0m\n",
      "\u001b[0;32m/Users/santostang/anaconda/envs/py35/lib/python3.5/site-packages/selenium/webdriver/remote/webdriver.py\u001b[0m in \u001b[0;36m__init__\u001b[0;34m(self, command_executor, desired_capabilities, browser_profile, proxy, keep_alive, file_detector)\u001b[0m\n\u001b[1;32m     90\u001b[0m         \u001b[0mself\u001b[0m\u001b[0;34m.\u001b[0m\u001b[0merror_handler\u001b[0m \u001b[0;34m=\u001b[0m \u001b[0mErrorHandler\u001b[0m\u001b[0;34m(\u001b[0m\u001b[0;34m)\u001b[0m\u001b[0;34m\u001b[0m\u001b[0m\n\u001b[1;32m     91\u001b[0m         \u001b[0mself\u001b[0m\u001b[0;34m.\u001b[0m\u001b[0mstart_client\u001b[0m\u001b[0;34m(\u001b[0m\u001b[0;34m)\u001b[0m\u001b[0;34m\u001b[0m\u001b[0m\n\u001b[0;32m---> 92\u001b[0;31m         \u001b[0mself\u001b[0m\u001b[0;34m.\u001b[0m\u001b[0mstart_session\u001b[0m\u001b[0;34m(\u001b[0m\u001b[0mdesired_capabilities\u001b[0m\u001b[0;34m,\u001b[0m \u001b[0mbrowser_profile\u001b[0m\u001b[0;34m)\u001b[0m\u001b[0;34m\u001b[0m\u001b[0m\n\u001b[0m\u001b[1;32m     93\u001b[0m         \u001b[0mself\u001b[0m\u001b[0;34m.\u001b[0m\u001b[0m_switch_to\u001b[0m \u001b[0;34m=\u001b[0m \u001b[0mSwitchTo\u001b[0m\u001b[0;34m(\u001b[0m\u001b[0mself\u001b[0m\u001b[0;34m)\u001b[0m\u001b[0;34m\u001b[0m\u001b[0m\n\u001b[1;32m     94\u001b[0m         \u001b[0mself\u001b[0m\u001b[0;34m.\u001b[0m\u001b[0m_mobile\u001b[0m \u001b[0;34m=\u001b[0m \u001b[0mMobile\u001b[0m\u001b[0;34m(\u001b[0m\u001b[0mself\u001b[0m\u001b[0;34m)\u001b[0m\u001b[0;34m\u001b[0m\u001b[0m\n",
      "\u001b[0;32m/Users/santostang/anaconda/envs/py35/lib/python3.5/site-packages/selenium/webdriver/remote/webdriver.py\u001b[0m in \u001b[0;36mstart_session\u001b[0;34m(self, desired_capabilities, browser_profile)\u001b[0m\n\u001b[1;32m    178\u001b[0m             \u001b[0mcapabilities\u001b[0m\u001b[0;34m[\u001b[0m\u001b[0;34m'desiredCapabilities'\u001b[0m\u001b[0;34m]\u001b[0m\u001b[0;34m[\u001b[0m\u001b[0;34m'firefox_profile'\u001b[0m\u001b[0;34m]\u001b[0m \u001b[0;34m=\u001b[0m \u001b[0mbrowser_profile\u001b[0m\u001b[0;34m.\u001b[0m\u001b[0mencoded\u001b[0m\u001b[0;34m\u001b[0m\u001b[0m\n\u001b[1;32m    179\u001b[0m         \u001b[0mresponse\u001b[0m \u001b[0;34m=\u001b[0m \u001b[0mself\u001b[0m\u001b[0;34m.\u001b[0m\u001b[0mexecute\u001b[0m\u001b[0;34m(\u001b[0m\u001b[0mCommand\u001b[0m\u001b[0;34m.\u001b[0m\u001b[0mNEW_SESSION\u001b[0m\u001b[0;34m,\u001b[0m \u001b[0mcapabilities\u001b[0m\u001b[0;34m)\u001b[0m\u001b[0;34m\u001b[0m\u001b[0m\n\u001b[0;32m--> 180\u001b[0;31m         \u001b[0mself\u001b[0m\u001b[0;34m.\u001b[0m\u001b[0msession_id\u001b[0m \u001b[0;34m=\u001b[0m \u001b[0mresponse\u001b[0m\u001b[0;34m[\u001b[0m\u001b[0;34m'sessionId'\u001b[0m\u001b[0;34m]\u001b[0m\u001b[0;34m\u001b[0m\u001b[0m\n\u001b[0m\u001b[1;32m    181\u001b[0m         \u001b[0mself\u001b[0m\u001b[0;34m.\u001b[0m\u001b[0mcapabilities\u001b[0m \u001b[0;34m=\u001b[0m \u001b[0mresponse\u001b[0m\u001b[0;34m[\u001b[0m\u001b[0;34m'value'\u001b[0m\u001b[0;34m]\u001b[0m\u001b[0;34m\u001b[0m\u001b[0m\n\u001b[1;32m    182\u001b[0m \u001b[0;34m\u001b[0m\u001b[0m\n",
      "\u001b[0;31mKeyError\u001b[0m: 'sessionId'"
     ]
    }
   ],
   "source": [
    "from selenium import webdriver\n",
    "driver = webdriver.Firefox()\n",
    "driver.get(\"http://www.santostang.com/2017/03/02/hello-world/\")"
   ]
  },
  {
   "cell_type": "code",
   "execution_count": 1,
   "metadata": {
    "collapsed": true
   },
   "outputs": [],
   "source": [
    "from selenium import webdriver\n",
    "from selenium.webdriver.firefox.firefox_binary import FirefoxBinary\n",
    "\n",
    "caps = webdriver.DesiredCapabilities().FIREFOX\n",
    "caps[\"marionette\"] = False\n",
    "binary = FirefoxBinary(r'D:\\Program Files\\Mozilla Firefox\\firefox.exe')\n",
    "#把上述地址改成你电脑中Firefox程序的地址\n",
    "driver = webdriver.Firefox(firefox_binary=binary, capabilities=caps)\n",
    "driver.get(\"http://www.santostang.com/2017/03/02/hello-world/\")"
   ]
  },
  {
   "cell_type": "code",
   "execution_count": 2,
   "metadata": {
    "collapsed": false
   },
   "outputs": [
    {
     "name": "stdout",
     "output_type": "stream",
     "text": [
      "第35条测试评论\n"
     ]
    }
   ],
   "source": [
    "comment = driver.find_element_by_css_selector('div.bdy-inner')\n",
    "content = comment.find_element_by_tag_name('p')\n",
    "print (content.text)"
   ]
  },
  {
   "cell_type": "markdown",
   "metadata": {},
   "source": [
    "## 4.3.3 selenium获取文章的所有评论"
   ]
  },
  {
   "cell_type": "code",
   "execution_count": null,
   "metadata": {
    "collapsed": true
   },
   "outputs": [],
   "source": [
    "from selenium import webdriver\n",
    "from selenium.webdriver.firefox.firefox_binary import FirefoxBinary\n",
    "import time\n",
    "\n",
    "caps = webdriver.DesiredCapabilities().FIREFOX\n",
    "caps[\"marionette\"] = False\n",
    "binary = FirefoxBinary(r'D:\\Program Files\\Mozilla Firefox\\firefox.exe')\n",
    "#把上述地址改成你电脑中Firefox程序的地址\n",
    "driver = webdriver.Firefox(firefox_binary=binary, capabilities=caps)\n",
    "driver.get(\"http://www.santostang.com/2017/03/02/hello-world/\")\n",
    "\n",
    "for x in range(0,10):\n",
    "    for i in range(0,2):\n",
    "        try:\n",
    "            load_more = driver.find_element_by_css_selector('div.tie-load-more')\n",
    "            load_more.click()\n",
    "        except:\n",
    "            pass\n",
    "    comments = driver.find_elements_by_css_selector('div.bdy-inner')\n",
    "    for eachcomment in comments:\n",
    "        content = eachcomment.find_element_by_tag_name('p')\n",
    "        print (content.text)\n",
    "    try:\n",
    "        next_page = driver.find_element_by_css_selector('span.z-next')\n",
    "        next_page.click()\n",
    "        time.sleep(5)\n",
    "    except:\n",
    "        break"
   ]
  },
  {
   "cell_type": "markdown",
   "metadata": {},
   "source": [
    "## 4.3.4\tSelenium的高级操作"
   ]
  },
  {
   "cell_type": "code",
   "execution_count": null,
   "metadata": {
    "collapsed": true
   },
   "outputs": [],
   "source": [
    "from selenium import webdriver\n",
    "from selenium.webdriver.firefox.firefox_binary import FirefoxBinary\n",
    "\n",
    "caps = webdriver.DesiredCapabilities().FIREFOX\n",
    "caps[\"marionette\"] = False\n",
    "\n",
    "binary = FirefoxBinary(r'D:\\Program Files\\Mozilla Firefox\\firefox.exe')\n",
    "#把上述地址改成你电脑中Firefox程序的地址\n",
    "fp = webdriver.FirefoxProfile()\n",
    "fp.set_preference(\"permissions.default.stylesheet\",2)\n",
    "\n",
    "driver = webdriver.Firefox(firefox_binary=binary, firefox_profile=fp, capabilities=caps)\n",
    "driver.get(\"http://www.santostang.com/2017/03/02/hello-world/\")"
   ]
  },
  {
   "cell_type": "code",
   "execution_count": null,
   "metadata": {
    "collapsed": true
   },
   "outputs": [],
   "source": [
    "from selenium import webdriver\n",
    "from selenium.webdriver.firefox.firefox_binary import FirefoxBinary\n",
    "\n",
    "caps = webdriver.DesiredCapabilities().FIREFOX\n",
    "caps[\"marionette\"] = False\n",
    "binary = FirefoxBinary(r'D:\\Program Files\\Mozilla Firefox\\firefox.exe')\n",
    "#把上述地址改成你电脑中Firefox程序的地址\n",
    "fp = webdriver.FirefoxProfile()\n",
    "fp.set_preference(\"permissions.default.image\",2)\n",
    "driver = webdriver.Firefox(firefox_binary=binary, firefox_profile = fp, capabilities=caps)\n",
    "driver.get(\"http://www.santostang.com/2017/03/02/hello-world/\")"
   ]
  },
  {
   "cell_type": "code",
   "execution_count": null,
   "metadata": {
    "collapsed": true
   },
   "outputs": [],
   "source": [
    "from selenium import webdriver\n",
    "from selenium.webdriver.firefox.firefox_binary import FirefoxBinary\n",
    "\n",
    "caps = webdriver.DesiredCapabilities().FIREFOX\n",
    "caps[\"marionette\"] = False\n",
    "\n",
    "binary = FirefoxBinary(r'D:\\Program Files\\Mozilla Firefox\\firefox.exe')\n",
    "#把上述地址改成你电脑中Firefox程序的地址\n",
    "fp = webdriver.FirefoxProfile()\n",
    "fp.set_preference(\"javascript.enabled\", False)\n",
    "driver = webdriver.Firefox(firefox_binary=binary, firefox_profile = fp, capabilities=caps)\n",
    "driver.get(\"http://www.santostang.com/2017/03/02/hello-world/\")"
   ]
  }
 ],
 "metadata": {
  "kernelspec": {
   "display_name": "Python 3",
   "language": "python",
   "name": "python3"
  },
  "language_info": {
   "codemirror_mode": {
    "name": "ipython",
    "version": 3
   },
   "file_extension": ".py",
   "mimetype": "text/x-python",
   "name": "python",
   "nbconvert_exporter": "python",
   "pygments_lexer": "ipython3",
   "version": "3.6.0"
  }
 },
 "nbformat": 4,
 "nbformat_minor": 2
}
